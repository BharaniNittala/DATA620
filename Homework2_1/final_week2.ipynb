{
 "cells": [
  {
   "cell_type": "markdown",
   "metadata": {},
   "source": [
    "# Week 2 Part 1 - Network Analysis: Graph Theory, Definitions \n",
    "### Assignment3: Graph Visualization (DATA620)"
   ]
  },
  {
   "cell_type": "markdown",
   "metadata": {},
   "source": [
    "##### Authors: John Mazon, Leticia Cancel, Bharani Nittala "
   ]
  },
  {
   "cell_type": "markdown",
   "metadata": {},
   "source": [
    "# Import Libraries"
   ]
  },
  {
   "cell_type": "code",
   "execution_count": 1,
   "metadata": {},
   "outputs": [],
   "source": [
    "import networkx as nx\n",
    "import numpy as np\n",
    "import pylab as pl\n",
    "import scipy as sp\n",
    "import time\n",
    "import random\n",
    "import queue\n",
    "import pandas as pd\n",
    "from IPython.display import display\n",
    "from matplotlib import pyplot as plt\n",
    "%matplotlib inline\n",
    "\n",
    "#in this section we import the needed packages, among them \n",
    "\n",
    "#NetworkX which is a Python package for the creation, manipulation, and study of the structure, dynamics, \n",
    "#and functions of complex networks.\n",
    "\n",
    "\n",
    "#NumPy is a Python library used for working with arrays.It also has functions for working in domain of linear algebra, \n",
    "#fourier transform, and matrices.\n",
    "\n",
    "#combining both the PyPlot and NumPy namespaces into a single one (to avoid having to import two namespaces), \n",
    "#the result is PyLab.\n",
    "\n",
    "#SciPy is a scientific computation library that uses NumPy underneath.SciPy stands for Scientific Python.\n",
    "#It provides more utility functions for optimization, stats and signal processing.Like NumPy, SciPy is open source so we can use it freely."
   ]
  },
  {
   "cell_type": "markdown",
   "metadata": {},
   "source": [
    "### Intro"
   ]
  },
  {
   "cell_type": "markdown",
   "metadata": {},
   "source": [
    "Assignment Part1-\n",
    "\n",
    "\"Load a graph database of your choosing from a text file or other source. If you take a large network dataset from the web (such as from https://snap.stanford.edu/data/), please feel free at this point to load just a small subset of the nodes and edges.\"\n",
    "\n",
    "We loaded a graph database of our choosing from source. We used a large network dataset from the web (such as from https://snap.stanford.edu/data/), \n",
    "we loaded just a small subset of the nodes and edges.\n",
    "\n",
    "Background - \n",
    "\n",
    "title: Amazon product co-purchasing network and ground-truth communities\n",
    "\n",
    "Network was collected by crawling Amazon website. It is based on Customers Who Bought This Item Also Bought feature of the Amazon website. If a product i is frequently co-purchased with product j, the graph contains an undirected edge from i to j. Each product category provided by Amazon defines each ground-truth community. \n",
    "\n",
    "We regard each connected component in a product category as a separate ground-truth community. We remove the ground-truth communities which have less than 3 nodes. We also provide the top 5,000 communities with highest quality which are described in our paper. As for the network, we provide the largest connected component.\n",
    "\n"
   ]
  },
  {
   "cell_type": "markdown",
   "metadata": {},
   "source": [
    "+ Location of data for draw graph\n",
    " "
   ]
  },
  {
   "cell_type": "markdown",
   "metadata": {},
   "source": [
    "# Read network from text file"
   ]
  },
  {
   "cell_type": "markdown",
   "metadata": {},
   "source": [
    "Below we specify file path locations. we imported our graph plus the communities. essentially reading in graph file into string by specifying file path(location). We see both unfiltered vs. filtered into communities. \n",
    "\n",
    "our graph file appears as tab delimited text file"
   ]
  },
  {
   "cell_type": "code",
   "execution_count": 2,
   "metadata": {},
   "outputs": [],
   "source": [
    "data_loc=r'C:/Users/pc/Desktop/old desk/Documents/Data 620/Assignment2/'\n",
    "graph_file=data_loc+ 'com-amazon.ungraph.txt'  \n",
    "com_file=data_loc+'com-amazon.all.dedup.cmty.txt'\n",
    "top_com_file=data_loc+'com-amazon.top5000.cmty.txt'"
   ]
  },
  {
   "cell_type": "markdown",
   "metadata": {},
   "source": [
    "+ Load graph from text files\n",
    "\n",
    "below we are reading in whole thing. using networkx read_edgelist(which are pairs of nodes that represent edges)\n",
    "\n",
    "note:\n",
    "- the NODES are products purchased\n",
    "- shows how many customers have purchased products together, if customers purchased two products together it forms an EDGE\n",
    "- we see products similar to each other purchased together have more edges between them\n"
   ]
  },
  {
   "cell_type": "code",
   "execution_count": 3,
   "metadata": {},
   "outputs": [],
   "source": [
    "g = nx.read_edgelist(graph_file)"
   ]
  },
  {
   "cell_type": "markdown",
   "metadata": {},
   "source": [
    "- by using networkx \"read_edgelist\" we are reading in the whole graph tab delimited file(from com-amazon.ungraph) into g\n",
    "- the ungraphed file can be thought of as products represented as numbers\n",
    "- we start off by using g.order() which we put into N, ORDER of graph is number of nodes\n",
    "- then using g.size() we put into K, SIZE is number of edges\n",
    "- now we can calculate average degree:\n",
    "\n",
    "The average degree of an undirected graph is the sum of the degrees of all its nodes divided by the number of nodes in the graph. It is a measure of the connectedness of a graph.\n",
    "- from here we are able to obtain basic statistics of the graph 'g'"
   ]
  },
  {
   "cell_type": "code",
   "execution_count": 4,
   "metadata": {},
   "outputs": [
    {
     "name": "stdout",
     "output_type": "stream",
     "text": [
      "Number of nodes of the graph:  334863\n",
      "Number of edges of the graph:  925872\n",
      "Average degree :  2.7649277465709856\n"
     ]
    }
   ],
   "source": [
    "# find number of nodes and edges \n",
    "N,K=g.order(),g.size()\n",
    "avg_deg=K/N\n",
    "# Display number of nodes and edges\n",
    "print('Number of nodes of the graph: ',N)\n",
    "print('Number of edges of the graph: ',K)\n",
    "print('Average degree : ',avg_deg)"
   ]
  },
  {
   "cell_type": "code",
   "execution_count": 5,
   "metadata": {},
   "outputs": [
    {
     "name": "stdout",
     "output_type": "stream",
     "text": [
      "Network density:  1.6513834036534368e-05\n"
     ]
    }
   ],
   "source": [
    "# Density of graph\n",
    "# density of graph is how many of all possible edges exist in the graph\n",
    "#example\n",
    "#Density is defined as the number of connections a participant has, divided by the total possible connections\n",
    "#a participant could have.\n",
    "\n",
    "density=nx.density(g)\n",
    "print('Network density: ',density)"
   ]
  },
  {
   "cell_type": "code",
   "execution_count": 6,
   "metadata": {},
   "outputs": [
    {
     "name": "stdout",
     "output_type": "stream",
     "text": [
      "Triadic closure: 0.20522444916452579\n"
     ]
    }
   ],
   "source": [
    "# finding triadic closure\n",
    "\n",
    "# definition: Triadic Closure for a Graph is the tendency for nodes who has a common neighbour to have an edge between them. \n",
    "#In case more edges are added in the Graph, these are the edges that tend to get formed.\n",
    "\n",
    "triadic_closure = nx.transitivity(g)\n",
    "print(\"Triadic closure:\", triadic_closure)"
   ]
  },
  {
   "cell_type": "code",
   "execution_count": 15,
   "metadata": {},
   "outputs": [
    {
     "name": "stdout",
     "output_type": "stream",
     "text": [
      "Top 20 nodes by degree:\n",
      "('548091', 549)\n",
      "('458358', 324)\n",
      "('222074', 257)\n",
      "('199628', 230)\n",
      "('515301', 228)\n",
      "('291117', 219)\n",
      "('502784', 217)\n",
      "('296016', 212)\n",
      "('239107', 205)\n",
      "('436020', 197)\n",
      "('239327', 196)\n",
      "('454004', 196)\n",
      "('399944', 180)\n",
      "('45146', 179)\n",
      "('430936', 177)\n",
      "('21209', 171)\n",
      "('98756', 165)\n",
      "('501444', 163)\n",
      "('194384', 160)\n",
      "('55387', 158)\n"
     ]
    }
   ],
   "source": [
    "# DEGREE \n",
    "# is a property of each node. in other words, how many edges does each node have. \n",
    "# below we define a dictionary [which helps return later a dictionary where we've calculated a degree, \n",
    "#then storing those numbers back into the graph]\n",
    "# ***Dictionaries**** are used to store data values in key:value pairs.\n",
    "# set_nodes_attributes takes the dictionary values and sticks the values into the graph and calls property 'degree'\n",
    "# Again, later on we can go back to the graph and ask for the degree of each node\n",
    "\n",
    "degree_dict = dict(g.degree(g.nodes()))\n",
    "nx.set_node_attributes(g, degree_dict, 'degree')\n",
    "degrees_vals = sorted(degree_dict.items(), key = lambda x: x[1], reverse=True)\n",
    "print(\"Top 20 nodes by degree:\")\n",
    "for d in degrees_vals[:20]:\n",
    "    print(d)\n",
    "# using above code we are able to sort the nodes by our values[top 20]\n",
    "\n",
    "#using the degrees we stored in the dictionary, we sort the list by values. \n",
    "#example : node '548091' has 549 edges"
   ]
  },
  {
   "cell_type": "code",
   "execution_count": 9,
   "metadata": {},
   "outputs": [
    {
     "name": "stdout",
     "output_type": "stream",
     "text": [
      "<class 'dict'>\n",
      "0.3967463932787655\n"
     ]
    }
   ],
   "source": [
    "# Clustering coefficient\n",
    "# Local Clustering Coefficient of a node in a Graph is the fraction of pairs \n",
    "#of the node's neighbours that are adjacent to each other.\n",
    "clust_coefficients = nx.clustering(g)\n",
    "print(type(clust_coefficients))\n",
    "avg_clust = sum(clust_coefficients.values()) / len(clust_coefficients)\n",
    "print(avg_clust)"
   ]
  },
  {
   "cell_type": "code",
   "execution_count": 16,
   "metadata": {},
   "outputs": [],
   "source": [
    "# function for get subgraph\n",
    "#Subgraph Breadth First Search\n",
    "#This can be throught of as being like Dijkstra's algorithm for shortest paths, but with every edge having the same length.\n",
    "#However it is a lot simpler and doesn't need any data structures. \n",
    "#We just keep a tree (the breadth first search tree), a list of nodes to be added to the tree, \n",
    "#and markings (Boolean variables) on the vertices to tell whether they are in the tree or list.\n",
    "\n",
    "#created subgraph by using breadth first search between a pair of nodes. we start at one node and we walk through the graph\n",
    "\n",
    "#can think of as, start at one product and pull out all things that are one degree connected to it\n",
    "\n",
    "def get_subgraph_bfs(graph, start_node, num_node):\n",
    "    node_set = set()\n",
    "    probbed = {start_node}\n",
    "    bfs_queue = queue.deque()\n",
    "    bfs_queue.append(start_node)\n",
    "    while len(bfs_queue) > 0:\n",
    "        i = bfs_queue.popleft()\n",
    "        node_set.add(i)\n",
    "        for j in g[i]:\n",
    "            if j not in probbed:\n",
    "                probbed.add(j)\n",
    "                bfs_queue.append(j)\n",
    "        if len(node_set) >= num_node:\n",
    "            return nx.subgraph(graph, node_set)"
   ]
  },
  {
   "cell_type": "code",
   "execution_count": 12,
   "metadata": {},
   "outputs": [
    {
     "data": {
      "image/png": "[encoded data removed]",
      "text/plain": [
       "<Figure size 432x288 with 1 Axes>"
      ]
     },
     "metadata": {},
     "output_type": "display_data"
    }
   ],
   "source": [
    "# get subgraph with 50 nodes\n",
    "#start at node one and pull 50 closest nodes\n",
    "\n",
    "subgraph = get_subgraph_bfs(g, '1', 50)\n",
    "# draw subgraph\n",
    "\n",
    "nx.draw(subgraph)\n",
    "plt.savefig(\"subgraph.png\")"
   ]
  },
  {
   "cell_type": "code",
   "execution_count": 13,
   "metadata": {},
   "outputs": [
    {
     "name": "stdout",
     "output_type": "stream",
     "text": [
      "Diameter of the subgraph:  4\n"
     ]
    }
   ],
   "source": [
    "# get DIAMETER of subpgraph\n",
    "#The diameter of a graph is the \"maximum eccentricity\" of any vertex in the graph.\n",
    "#That is, the greatest distance between any pair of vertices or, alternatively\n",
    "#To find the diameter of a graph, first find the shortest path between each pair of vertices.\n",
    "d=nx.diameter(subgraph)\n",
    "print('Diameter of the subgraph: ',d)"
   ]
  },
  {
   "cell_type": "markdown",
   "metadata": {},
   "source": [
    "+ Graph label extraction"
   ]
  },
  {
   "cell_type": "code",
   "execution_count": 17,
   "metadata": {},
   "outputs": [],
   "source": [
    "nx.write_gexf(subgraph, 'C:/Users/pc/Desktop/old desk/Documents/Data 620/Assignment2/network.gexf')"
   ]
  }
 ],
 "metadata": {
  "kernelspec": {
   "display_name": "Python 3",
   "language": "python",
   "name": "python3"
  },
  "language_info": {
   "codemirror_mode": {
    "name": "ipython",
    "version": 3
   },
   "file_extension": ".py",
   "mimetype": "text/x-python",
   "name": "python",
   "nbconvert_exporter": "python",
   "pygments_lexer": "ipython3",
   "version": "3.8.8"
  }
 },
 "nbformat": 4,
 "nbformat_minor": 4
}
